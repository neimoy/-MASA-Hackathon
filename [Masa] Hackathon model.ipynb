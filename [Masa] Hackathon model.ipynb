{
 "cells": [
  {
   "cell_type": "code",
   "execution_count": 173,
   "id": "52415700",
   "metadata": {},
   "outputs": [],
   "source": [
    "#import all the library\n",
    "import numpy as np\n",
    "import pandas as pd\n",
    "import matplotlib.pyplot as plt\n",
    "import seaborn as sns\n",
    "\n",
    "from sklearn.preprocessing import LabelEncoder\n",
    "from sklearn.model_selection import train_test_split\n",
    "from sklearn.metrics import confusion_matrix\n",
    "from sklearn.metrics import accuracy_score\n",
    "from sklearn.linear_model import LogisticRegression\n",
    "from sklearn.metrics import classification_report\n",
    "from sklearn.tree import DecisionTreeClassifier \n",
    "from sklearn.metrics import accuracy_score"
   ]
  },
  {
   "cell_type": "code",
   "execution_count": 150,
   "id": "c5980a38",
   "metadata": {},
   "outputs": [
    {
     "data": {
      "text/html": [
       "<div>\n",
       "<style scoped>\n",
       "    .dataframe tbody tr th:only-of-type {\n",
       "        vertical-align: middle;\n",
       "    }\n",
       "\n",
       "    .dataframe tbody tr th {\n",
       "        vertical-align: top;\n",
       "    }\n",
       "\n",
       "    .dataframe thead th {\n",
       "        text-align: right;\n",
       "    }\n",
       "</style>\n",
       "<table border=\"1\" class=\"dataframe\">\n",
       "  <thead>\n",
       "    <tr style=\"text-align: right;\">\n",
       "      <th></th>\n",
       "      <th>Agency</th>\n",
       "      <th>Agency Type</th>\n",
       "      <th>Distribution Channel</th>\n",
       "      <th>Product Name</th>\n",
       "      <th>Claim</th>\n",
       "      <th>Duration</th>\n",
       "      <th>Destination</th>\n",
       "      <th>Net Sales</th>\n",
       "      <th>Commision (in value)</th>\n",
       "      <th>Gender</th>\n",
       "      <th>Age</th>\n",
       "    </tr>\n",
       "  </thead>\n",
       "  <tbody>\n",
       "    <tr>\n",
       "      <th>0</th>\n",
       "      <td>CBH</td>\n",
       "      <td>Travel Agency</td>\n",
       "      <td>Offline</td>\n",
       "      <td>Comprehensive Plan</td>\n",
       "      <td>No</td>\n",
       "      <td>186</td>\n",
       "      <td>MALAYSIA</td>\n",
       "      <td>-29.0</td>\n",
       "      <td>9.57</td>\n",
       "      <td>F</td>\n",
       "      <td>81</td>\n",
       "    </tr>\n",
       "    <tr>\n",
       "      <th>1</th>\n",
       "      <td>CBH</td>\n",
       "      <td>Travel Agency</td>\n",
       "      <td>Offline</td>\n",
       "      <td>Comprehensive Plan</td>\n",
       "      <td>No</td>\n",
       "      <td>186</td>\n",
       "      <td>MALAYSIA</td>\n",
       "      <td>-29.0</td>\n",
       "      <td>9.57</td>\n",
       "      <td>F</td>\n",
       "      <td>71</td>\n",
       "    </tr>\n",
       "    <tr>\n",
       "      <th>2</th>\n",
       "      <td>CWT</td>\n",
       "      <td>Travel Agency</td>\n",
       "      <td>Online</td>\n",
       "      <td>Rental Vehicle Excess Insurance</td>\n",
       "      <td>No</td>\n",
       "      <td>65</td>\n",
       "      <td>AUSTRALIA</td>\n",
       "      <td>-49.5</td>\n",
       "      <td>29.70</td>\n",
       "      <td>NaN</td>\n",
       "      <td>32</td>\n",
       "    </tr>\n",
       "    <tr>\n",
       "      <th>3</th>\n",
       "      <td>CWT</td>\n",
       "      <td>Travel Agency</td>\n",
       "      <td>Online</td>\n",
       "      <td>Rental Vehicle Excess Insurance</td>\n",
       "      <td>No</td>\n",
       "      <td>60</td>\n",
       "      <td>AUSTRALIA</td>\n",
       "      <td>-39.6</td>\n",
       "      <td>23.76</td>\n",
       "      <td>NaN</td>\n",
       "      <td>32</td>\n",
       "    </tr>\n",
       "    <tr>\n",
       "      <th>4</th>\n",
       "      <td>CWT</td>\n",
       "      <td>Travel Agency</td>\n",
       "      <td>Online</td>\n",
       "      <td>Rental Vehicle Excess Insurance</td>\n",
       "      <td>No</td>\n",
       "      <td>79</td>\n",
       "      <td>ITALY</td>\n",
       "      <td>-19.8</td>\n",
       "      <td>11.88</td>\n",
       "      <td>NaN</td>\n",
       "      <td>41</td>\n",
       "    </tr>\n",
       "  </tbody>\n",
       "</table>\n",
       "</div>"
      ],
      "text/plain": [
       "  Agency    Agency Type Distribution Channel                     Product Name  \\\n",
       "0    CBH  Travel Agency              Offline               Comprehensive Plan   \n",
       "1    CBH  Travel Agency              Offline               Comprehensive Plan   \n",
       "2    CWT  Travel Agency               Online  Rental Vehicle Excess Insurance   \n",
       "3    CWT  Travel Agency               Online  Rental Vehicle Excess Insurance   \n",
       "4    CWT  Travel Agency               Online  Rental Vehicle Excess Insurance   \n",
       "\n",
       "  Claim  Duration Destination  Net Sales  Commision (in value) Gender  Age  \n",
       "0    No       186    MALAYSIA      -29.0                  9.57      F   81  \n",
       "1    No       186    MALAYSIA      -29.0                  9.57      F   71  \n",
       "2    No        65   AUSTRALIA      -49.5                 29.70    NaN   32  \n",
       "3    No        60   AUSTRALIA      -39.6                 23.76    NaN   32  \n",
       "4    No        79       ITALY      -19.8                 11.88    NaN   41  "
      ]
     },
     "execution_count": 150,
     "metadata": {},
     "output_type": "execute_result"
    }
   ],
   "source": [
    "#read the dataset\n",
    "df = pd.read_excel('[MASA Hackathon 2022] Travel Insurance Data Set .xlsx')\n",
    "df.head()"
   ]
  },
  {
   "cell_type": "code",
   "execution_count": 151,
   "id": "a49dda30",
   "metadata": {},
   "outputs": [
    {
     "data": {
      "text/html": [
       "<div>\n",
       "<style scoped>\n",
       "    .dataframe tbody tr th:only-of-type {\n",
       "        vertical-align: middle;\n",
       "    }\n",
       "\n",
       "    .dataframe tbody tr th {\n",
       "        vertical-align: top;\n",
       "    }\n",
       "\n",
       "    .dataframe thead th {\n",
       "        text-align: right;\n",
       "    }\n",
       "</style>\n",
       "<table border=\"1\" class=\"dataframe\">\n",
       "  <thead>\n",
       "    <tr style=\"text-align: right;\">\n",
       "      <th></th>\n",
       "      <th>Product Name</th>\n",
       "      <th>Claim</th>\n",
       "      <th>Duration</th>\n",
       "      <th>Destination</th>\n",
       "      <th>Net Sales</th>\n",
       "      <th>Commision (in value)</th>\n",
       "      <th>Gender</th>\n",
       "      <th>Age</th>\n",
       "    </tr>\n",
       "  </thead>\n",
       "  <tbody>\n",
       "    <tr>\n",
       "      <th>0</th>\n",
       "      <td>Comprehensive Plan</td>\n",
       "      <td>No</td>\n",
       "      <td>186</td>\n",
       "      <td>MALAYSIA</td>\n",
       "      <td>-29.0</td>\n",
       "      <td>9.57</td>\n",
       "      <td>F</td>\n",
       "      <td>81</td>\n",
       "    </tr>\n",
       "    <tr>\n",
       "      <th>1</th>\n",
       "      <td>Comprehensive Plan</td>\n",
       "      <td>No</td>\n",
       "      <td>186</td>\n",
       "      <td>MALAYSIA</td>\n",
       "      <td>-29.0</td>\n",
       "      <td>9.57</td>\n",
       "      <td>F</td>\n",
       "      <td>71</td>\n",
       "    </tr>\n",
       "    <tr>\n",
       "      <th>2</th>\n",
       "      <td>Rental Vehicle Excess Insurance</td>\n",
       "      <td>No</td>\n",
       "      <td>65</td>\n",
       "      <td>AUSTRALIA</td>\n",
       "      <td>-49.5</td>\n",
       "      <td>29.70</td>\n",
       "      <td>NaN</td>\n",
       "      <td>32</td>\n",
       "    </tr>\n",
       "    <tr>\n",
       "      <th>3</th>\n",
       "      <td>Rental Vehicle Excess Insurance</td>\n",
       "      <td>No</td>\n",
       "      <td>60</td>\n",
       "      <td>AUSTRALIA</td>\n",
       "      <td>-39.6</td>\n",
       "      <td>23.76</td>\n",
       "      <td>NaN</td>\n",
       "      <td>32</td>\n",
       "    </tr>\n",
       "    <tr>\n",
       "      <th>4</th>\n",
       "      <td>Rental Vehicle Excess Insurance</td>\n",
       "      <td>No</td>\n",
       "      <td>79</td>\n",
       "      <td>ITALY</td>\n",
       "      <td>-19.8</td>\n",
       "      <td>11.88</td>\n",
       "      <td>NaN</td>\n",
       "      <td>41</td>\n",
       "    </tr>\n",
       "  </tbody>\n",
       "</table>\n",
       "</div>"
      ],
      "text/plain": [
       "                      Product Name Claim  Duration Destination  Net Sales  \\\n",
       "0               Comprehensive Plan    No       186    MALAYSIA      -29.0   \n",
       "1               Comprehensive Plan    No       186    MALAYSIA      -29.0   \n",
       "2  Rental Vehicle Excess Insurance    No        65   AUSTRALIA      -49.5   \n",
       "3  Rental Vehicle Excess Insurance    No        60   AUSTRALIA      -39.6   \n",
       "4  Rental Vehicle Excess Insurance    No        79       ITALY      -19.8   \n",
       "\n",
       "   Commision (in value) Gender  Age  \n",
       "0                  9.57      F   81  \n",
       "1                  9.57      F   71  \n",
       "2                 29.70    NaN   32  \n",
       "3                 23.76    NaN   32  \n",
       "4                 11.88    NaN   41  "
      ]
     },
     "execution_count": 151,
     "metadata": {},
     "output_type": "execute_result"
    }
   ],
   "source": [
    "#Drop unuse Column\n",
    "df = df.drop(['Agency', 'Agency Type', 'Distribution Channel'], axis=1)\n",
    "df.head()"
   ]
  },
  {
   "cell_type": "code",
   "execution_count": 152,
   "id": "35779960",
   "metadata": {},
   "outputs": [
    {
     "data": {
      "text/plain": [
       "Product Name                0\n",
       "Claim                       0\n",
       "Duration                    0\n",
       "Destination                 0\n",
       "Net Sales                   0\n",
       "Commision (in value)        0\n",
       "Gender                  45107\n",
       "Age                         0\n",
       "dtype: int64"
      ]
     },
     "execution_count": 152,
     "metadata": {},
     "output_type": "execute_result"
    }
   ],
   "source": [
    "#check null value\n",
    "df.isnull().sum()"
   ]
  },
  {
   "cell_type": "code",
   "execution_count": 153,
   "id": "770fffd0",
   "metadata": {},
   "outputs": [
    {
     "data": {
      "text/html": [
       "<div>\n",
       "<style scoped>\n",
       "    .dataframe tbody tr th:only-of-type {\n",
       "        vertical-align: middle;\n",
       "    }\n",
       "\n",
       "    .dataframe tbody tr th {\n",
       "        vertical-align: top;\n",
       "    }\n",
       "\n",
       "    .dataframe thead th {\n",
       "        text-align: right;\n",
       "    }\n",
       "</style>\n",
       "<table border=\"1\" class=\"dataframe\">\n",
       "  <thead>\n",
       "    <tr style=\"text-align: right;\">\n",
       "      <th></th>\n",
       "      <th>Product Name</th>\n",
       "      <th>Claim</th>\n",
       "      <th>Duration</th>\n",
       "      <th>Destination</th>\n",
       "      <th>Net Sales</th>\n",
       "      <th>Commision (in value)</th>\n",
       "      <th>Gender</th>\n",
       "      <th>Age</th>\n",
       "    </tr>\n",
       "  </thead>\n",
       "  <tbody>\n",
       "    <tr>\n",
       "      <th>0</th>\n",
       "      <td>12</td>\n",
       "      <td>0</td>\n",
       "      <td>186</td>\n",
       "      <td>79</td>\n",
       "      <td>-29.0</td>\n",
       "      <td>9.57</td>\n",
       "      <td>0</td>\n",
       "      <td>81</td>\n",
       "    </tr>\n",
       "    <tr>\n",
       "      <th>1</th>\n",
       "      <td>12</td>\n",
       "      <td>0</td>\n",
       "      <td>186</td>\n",
       "      <td>79</td>\n",
       "      <td>-29.0</td>\n",
       "      <td>9.57</td>\n",
       "      <td>0</td>\n",
       "      <td>71</td>\n",
       "    </tr>\n",
       "    <tr>\n",
       "      <th>2</th>\n",
       "      <td>16</td>\n",
       "      <td>0</td>\n",
       "      <td>65</td>\n",
       "      <td>4</td>\n",
       "      <td>-49.5</td>\n",
       "      <td>29.70</td>\n",
       "      <td>2</td>\n",
       "      <td>32</td>\n",
       "    </tr>\n",
       "    <tr>\n",
       "      <th>3</th>\n",
       "      <td>16</td>\n",
       "      <td>0</td>\n",
       "      <td>60</td>\n",
       "      <td>4</td>\n",
       "      <td>-39.6</td>\n",
       "      <td>23.76</td>\n",
       "      <td>2</td>\n",
       "      <td>32</td>\n",
       "    </tr>\n",
       "    <tr>\n",
       "      <th>4</th>\n",
       "      <td>16</td>\n",
       "      <td>0</td>\n",
       "      <td>79</td>\n",
       "      <td>61</td>\n",
       "      <td>-19.8</td>\n",
       "      <td>11.88</td>\n",
       "      <td>2</td>\n",
       "      <td>41</td>\n",
       "    </tr>\n",
       "  </tbody>\n",
       "</table>\n",
       "</div>"
      ],
      "text/plain": [
       "   Product Name  Claim  Duration  Destination  Net Sales  \\\n",
       "0            12      0       186           79      -29.0   \n",
       "1            12      0       186           79      -29.0   \n",
       "2            16      0        65            4      -49.5   \n",
       "3            16      0        60            4      -39.6   \n",
       "4            16      0        79           61      -19.8   \n",
       "\n",
       "   Commision (in value)  Gender  Age  \n",
       "0                  9.57       0   81  \n",
       "1                  9.57       0   71  \n",
       "2                 29.70       2   32  \n",
       "3                 23.76       2   32  \n",
       "4                 11.88       2   41  "
      ]
     },
     "execution_count": 153,
     "metadata": {},
     "output_type": "execute_result"
    }
   ],
   "source": [
    "#Turn data into numerical and handle missing value\n",
    "label_enc = LabelEncoder()\n",
    "df['Claim'] = label_enc.fit_transform(df['Claim'])\n",
    "df['Gender'] = label_enc.fit_transform(df['Gender'])\n",
    "df['Product Name'] = label_enc.fit_transform(df['Product Name'])\n",
    "df['Destination'] = label_enc.fit_transform(df['Destination'])\n",
    "df.head()"
   ]
  },
  {
   "cell_type": "code",
   "execution_count": 155,
   "id": "0c1ebc62",
   "metadata": {},
   "outputs": [
    {
     "name": "stdout",
     "output_type": "stream",
     "text": [
      "<class 'pandas.core.frame.DataFrame'>\n",
      "RangeIndex: 63326 entries, 0 to 63325\n",
      "Data columns (total 8 columns):\n",
      " #   Column                Non-Null Count  Dtype  \n",
      "---  ------                --------------  -----  \n",
      " 0   Product Name          63326 non-null  int64  \n",
      " 1   Claim                 63326 non-null  int64  \n",
      " 2   Duration              63326 non-null  int64  \n",
      " 3   Destination           63326 non-null  int64  \n",
      " 4   Net Sales             63326 non-null  float64\n",
      " 5   Commision (in value)  63326 non-null  float64\n",
      " 6   Gender                63326 non-null  int64  \n",
      " 7   Age                   63326 non-null  int64  \n",
      "dtypes: float64(2), int64(6)\n",
      "memory usage: 3.9 MB\n"
     ]
    }
   ],
   "source": [
    "df.info()"
   ]
  },
  {
   "cell_type": "code",
   "execution_count": 156,
   "id": "e5a2c6e7",
   "metadata": {},
   "outputs": [
    {
     "data": {
      "image/png": "[encoded data removed]",
      "text/plain": [
       "<Figure size 1152x360 with 2 Axes>"
      ]
     },
     "metadata": {
      "needs_background": "light"
     },
     "output_type": "display_data"
    }
   ],
   "source": [
    "#Search for outliers\n",
    "import warnings\n",
    "warnings.filterwarnings('ignore')\n",
    "plt.figure(figsize=(16,5))\n",
    "plt.subplot(1,2,1)\n",
    "sns.distplot(df['Duration'])\n",
    "plt.subplot(1,2,2)\n",
    "sns.distplot(df['Age'])\n",
    "plt.show()"
   ]
  },
  {
   "cell_type": "code",
   "execution_count": 157,
   "id": "0a5bdde1",
   "metadata": {},
   "outputs": [
    {
     "name": "stdout",
     "output_type": "stream",
     "text": [
      "Duration: \n"
     ]
    },
    {
     "data": {
      "image/png": "[encoded data removed]",
      "text/plain": [
       "<Figure size 432x288 with 1 Axes>"
      ]
     },
     "metadata": {
      "needs_background": "light"
     },
     "output_type": "display_data"
    },
    {
     "name": "stdout",
     "output_type": "stream",
     "text": [
      "Age: \n"
     ]
    },
    {
     "data": {
      "image/png": "[encoded data removed]",
      "text/plain": [
       "<Figure size 432x288 with 1 Axes>"
      ]
     },
     "metadata": {
      "needs_background": "light"
     },
     "output_type": "display_data"
    }
   ],
   "source": [
    "print(\"Duration: \")\n",
    "plt.boxplot(df[\"Duration\"])\n",
    "plt.show()\n",
    "print(\"Age: \")\n",
    "plt.boxplot(df[\"Age\"])\n",
    "plt.show()"
   ]
  },
  {
   "cell_type": "code",
   "execution_count": 158,
   "id": "164b35c8",
   "metadata": {},
   "outputs": [
    {
     "name": "stdout",
     "output_type": "stream",
     "text": [
      "35.0\n",
      "43.0\n",
      "8.0\n",
      "23.0 55.0\n"
     ]
    }
   ],
   "source": [
    "#Check the outlier\n",
    "Q1=df['Age'].quantile(0.25)\n",
    "Q3=df['Age'].quantile(0.75)\n",
    "IQR=Q3-Q1\n",
    "print(Q1)\n",
    "print(Q3)\n",
    "print(IQR)\n",
    "Lower_Age= Q1-(1.5*IQR)\n",
    "Upper_Age = Q3+(1.5*IQR)\n",
    "print(Lower_Age, Upper_Age)"
   ]
  },
  {
   "cell_type": "code",
   "execution_count": 159,
   "id": "4585b4b0",
   "metadata": {},
   "outputs": [
    {
     "data": {
      "text/html": [
       "<div>\n",
       "<style scoped>\n",
       "    .dataframe tbody tr th:only-of-type {\n",
       "        vertical-align: middle;\n",
       "    }\n",
       "\n",
       "    .dataframe tbody tr th {\n",
       "        vertical-align: top;\n",
       "    }\n",
       "\n",
       "    .dataframe thead th {\n",
       "        text-align: right;\n",
       "    }\n",
       "</style>\n",
       "<table border=\"1\" class=\"dataframe\">\n",
       "  <thead>\n",
       "    <tr style=\"text-align: right;\">\n",
       "      <th></th>\n",
       "      <th>Product Name</th>\n",
       "      <th>Claim</th>\n",
       "      <th>Duration</th>\n",
       "      <th>Destination</th>\n",
       "      <th>Net Sales</th>\n",
       "      <th>Commision (in value)</th>\n",
       "      <th>Gender</th>\n",
       "      <th>Age</th>\n",
       "    </tr>\n",
       "  </thead>\n",
       "  <tbody>\n",
       "    <tr>\n",
       "      <th>2</th>\n",
       "      <td>16</td>\n",
       "      <td>0</td>\n",
       "      <td>65</td>\n",
       "      <td>4</td>\n",
       "      <td>-49.5</td>\n",
       "      <td>29.70</td>\n",
       "      <td>2</td>\n",
       "      <td>32</td>\n",
       "    </tr>\n",
       "    <tr>\n",
       "      <th>3</th>\n",
       "      <td>16</td>\n",
       "      <td>0</td>\n",
       "      <td>60</td>\n",
       "      <td>4</td>\n",
       "      <td>-39.6</td>\n",
       "      <td>23.76</td>\n",
       "      <td>2</td>\n",
       "      <td>32</td>\n",
       "    </tr>\n",
       "    <tr>\n",
       "      <th>4</th>\n",
       "      <td>16</td>\n",
       "      <td>0</td>\n",
       "      <td>79</td>\n",
       "      <td>61</td>\n",
       "      <td>-19.8</td>\n",
       "      <td>11.88</td>\n",
       "      <td>2</td>\n",
       "      <td>41</td>\n",
       "    </tr>\n",
       "    <tr>\n",
       "      <th>5</th>\n",
       "      <td>25</td>\n",
       "      <td>0</td>\n",
       "      <td>66</td>\n",
       "      <td>140</td>\n",
       "      <td>-121.0</td>\n",
       "      <td>42.35</td>\n",
       "      <td>0</td>\n",
       "      <td>44</td>\n",
       "    </tr>\n",
       "    <tr>\n",
       "      <th>6</th>\n",
       "      <td>16</td>\n",
       "      <td>0</td>\n",
       "      <td>47</td>\n",
       "      <td>140</td>\n",
       "      <td>-39.6</td>\n",
       "      <td>23.76</td>\n",
       "      <td>2</td>\n",
       "      <td>32</td>\n",
       "    </tr>\n",
       "  </tbody>\n",
       "</table>\n",
       "</div>"
      ],
      "text/plain": [
       "   Product Name  Claim  Duration  Destination  Net Sales  \\\n",
       "2            16      0        65            4      -49.5   \n",
       "3            16      0        60            4      -39.6   \n",
       "4            16      0        79           61      -19.8   \n",
       "5            25      0        66          140     -121.0   \n",
       "6            16      0        47          140      -39.6   \n",
       "\n",
       "   Commision (in value)  Gender  Age  \n",
       "2                 29.70       2   32  \n",
       "3                 23.76       2   32  \n",
       "4                 11.88       2   41  \n",
       "5                 42.35       0   44  \n",
       "6                 23.76       2   32  "
      ]
     },
     "execution_count": 159,
     "metadata": {},
     "output_type": "execute_result"
    }
   ],
   "source": [
    "#Remove the outlier for age column\n",
    "df = df[(df['Age']<= Upper_Age) & (df['Age'] >= Lower_Age)]\n",
    "df.head()"
   ]
  },
  {
   "cell_type": "code",
   "execution_count": 160,
   "id": "02f8884c",
   "metadata": {},
   "outputs": [
    {
     "name": "stdout",
     "output_type": "stream",
     "text": [
      "9.0\n",
      "53.0\n",
      "44.0\n",
      "-57.0 119.0\n"
     ]
    }
   ],
   "source": [
    "Q1=df['Duration'].quantile(0.25)\n",
    "Q3=df['Duration'].quantile(0.75)\n",
    "IQR=Q3-Q1\n",
    "print(Q1)\n",
    "print(Q3)\n",
    "print(IQR)\n",
    "Lower_Dur= Q1-(1.5*IQR)\n",
    "Upper_Dur = Q3+(1.5*IQR)\n",
    "print(Lower_Dur, Upper_Dur)"
   ]
  },
  {
   "cell_type": "code",
   "execution_count": 161,
   "id": "2ae97951",
   "metadata": {},
   "outputs": [
    {
     "data": {
      "text/html": [
       "<div>\n",
       "<style scoped>\n",
       "    .dataframe tbody tr th:only-of-type {\n",
       "        vertical-align: middle;\n",
       "    }\n",
       "\n",
       "    .dataframe tbody tr th {\n",
       "        vertical-align: top;\n",
       "    }\n",
       "\n",
       "    .dataframe thead th {\n",
       "        text-align: right;\n",
       "    }\n",
       "</style>\n",
       "<table border=\"1\" class=\"dataframe\">\n",
       "  <thead>\n",
       "    <tr style=\"text-align: right;\">\n",
       "      <th></th>\n",
       "      <th>Product Name</th>\n",
       "      <th>Claim</th>\n",
       "      <th>Duration</th>\n",
       "      <th>Destination</th>\n",
       "      <th>Net Sales</th>\n",
       "      <th>Commision (in value)</th>\n",
       "      <th>Gender</th>\n",
       "      <th>Age</th>\n",
       "    </tr>\n",
       "  </thead>\n",
       "  <tbody>\n",
       "    <tr>\n",
       "      <th>2</th>\n",
       "      <td>16</td>\n",
       "      <td>0</td>\n",
       "      <td>65</td>\n",
       "      <td>4</td>\n",
       "      <td>-49.5</td>\n",
       "      <td>29.70</td>\n",
       "      <td>2</td>\n",
       "      <td>32</td>\n",
       "    </tr>\n",
       "    <tr>\n",
       "      <th>3</th>\n",
       "      <td>16</td>\n",
       "      <td>0</td>\n",
       "      <td>60</td>\n",
       "      <td>4</td>\n",
       "      <td>-39.6</td>\n",
       "      <td>23.76</td>\n",
       "      <td>2</td>\n",
       "      <td>32</td>\n",
       "    </tr>\n",
       "    <tr>\n",
       "      <th>4</th>\n",
       "      <td>16</td>\n",
       "      <td>0</td>\n",
       "      <td>79</td>\n",
       "      <td>61</td>\n",
       "      <td>-19.8</td>\n",
       "      <td>11.88</td>\n",
       "      <td>2</td>\n",
       "      <td>41</td>\n",
       "    </tr>\n",
       "    <tr>\n",
       "      <th>5</th>\n",
       "      <td>25</td>\n",
       "      <td>0</td>\n",
       "      <td>66</td>\n",
       "      <td>140</td>\n",
       "      <td>-121.0</td>\n",
       "      <td>42.35</td>\n",
       "      <td>0</td>\n",
       "      <td>44</td>\n",
       "    </tr>\n",
       "    <tr>\n",
       "      <th>6</th>\n",
       "      <td>16</td>\n",
       "      <td>0</td>\n",
       "      <td>47</td>\n",
       "      <td>140</td>\n",
       "      <td>-39.6</td>\n",
       "      <td>23.76</td>\n",
       "      <td>2</td>\n",
       "      <td>32</td>\n",
       "    </tr>\n",
       "  </tbody>\n",
       "</table>\n",
       "</div>"
      ],
      "text/plain": [
       "   Product Name  Claim  Duration  Destination  Net Sales  \\\n",
       "2            16      0        65            4      -49.5   \n",
       "3            16      0        60            4      -39.6   \n",
       "4            16      0        79           61      -19.8   \n",
       "5            25      0        66          140     -121.0   \n",
       "6            16      0        47          140      -39.6   \n",
       "\n",
       "   Commision (in value)  Gender  Age  \n",
       "2                 29.70       2   32  \n",
       "3                 23.76       2   32  \n",
       "4                 11.88       2   41  \n",
       "5                 42.35       0   44  \n",
       "6                 23.76       2   32  "
      ]
     },
     "execution_count": 161,
     "metadata": {},
     "output_type": "execute_result"
    }
   ],
   "source": [
    "#Remove outlier for duration column\n",
    "df = df[(df['Duration']<= Upper_Dur) & (df['Duration'] > 0)]\n",
    "df.head()"
   ]
  },
  {
   "cell_type": "code",
   "execution_count": 162,
   "id": "923ca4b0",
   "metadata": {},
   "outputs": [
    {
     "data": {
      "text/plain": [
       "(51006, 8)"
      ]
     },
     "execution_count": 162,
     "metadata": {},
     "output_type": "execute_result"
    }
   ],
   "source": [
    "df.shape"
   ]
  },
  {
   "cell_type": "code",
   "execution_count": 177,
   "id": "7e1cbcfe",
   "metadata": {},
   "outputs": [],
   "source": [
    "# Determine X and Y\n",
    "x = df[['Product Name', 'Duration', 'Destination', 'Gender', 'Age']]\n",
    "y = df['Claim']"
   ]
  },
  {
   "cell_type": "code",
   "execution_count": 179,
   "id": "2245056a",
   "metadata": {},
   "outputs": [],
   "source": [
    "#Split the dataset into train and test\n",
    "x_train, x_test, y_train, y_test = train_test_split(x, y, test_size=0.2, random_state=42)"
   ]
  },
  {
   "cell_type": "code",
   "execution_count": 180,
   "id": "c08371da",
   "metadata": {},
   "outputs": [],
   "source": [
    "#Create function for to find Accuracy of Train and Testing Dataset\n",
    "def print_score(clf, X_train, y_train, X_test, y_test, train=True):\n",
    "    if train:\n",
    "        pred = clf.predict(X_train)\n",
    "        clf_report = pd.DataFrame(classification_report(y_train, pred, output_dict=True))\n",
    "        print(\"Train Result:\\n================================================\")\n",
    "        print(f\"Accuracy Score: {accuracy_score(y_train, pred) * 100:.2f}%\")\n",
    "        print(\"_______________________________________________\")\n",
    "        print(f\"CLASSIFICATION REPORT:\\n{clf_report}\")\n",
    "        print(\"_______________________________________________\")\n",
    "        print(f\"Confusion Matrix: \\n {confusion_matrix(y_train, pred)}\\n\")\n",
    "        \n",
    "    elif train==False:\n",
    "        pred = clf.predict(X_test)\n",
    "        clf_report = pd.DataFrame(classification_report(y_test, pred, output_dict=True))\n",
    "        print(\"Test Result:\\n================================================\")        \n",
    "        print(f\"Accuracy Score: {accuracy_score(y_test, pred) * 100:.2f}%\")\n",
    "        print(\"_______________________________________________\")\n",
    "        print(f\"CLASSIFICATION REPORT:\\n{clf_report}\")\n",
    "        print(\"_______________________________________________\")\n",
    "        print(f\"Confusion Matrix: \\n {confusion_matrix(y_test, pred)}\\n\")"
   ]
  },
  {
   "cell_type": "code",
   "execution_count": 181,
   "id": "ce1d4d10",
   "metadata": {},
   "outputs": [
    {
     "name": "stdout",
     "output_type": "stream",
     "text": [
      "Train Result:\n",
      "================================================\n",
      "Accuracy Score: 98.87%\n",
      "_______________________________________________\n",
      "CLASSIFICATION REPORT:\n",
      "                      0      1  accuracy     macro avg  weighted avg\n",
      "precision      0.988678    0.0  0.988678      0.494339      0.977483\n",
      "recall         1.000000    0.0  0.988678      0.500000      0.988678\n",
      "f1-score       0.994307    0.0  0.988678      0.497153      0.983049\n",
      "support    40342.000000  462.0  0.988678  40804.000000  40804.000000\n",
      "_______________________________________________\n",
      "Confusion Matrix: \n",
      " [[40342     0]\n",
      " [  462     0]]\n",
      "\n",
      "Test Result:\n",
      "================================================\n",
      "Accuracy Score: 98.73%\n",
      "_______________________________________________\n",
      "CLASSIFICATION REPORT:\n",
      "                      0      1  accuracy     macro avg  weighted avg\n",
      "precision      0.987257    0.0  0.987257      0.493629      0.974677\n",
      "recall         1.000000    0.0  0.987257      0.500000      0.987257\n",
      "f1-score       0.993588    0.0  0.987257      0.496794      0.980927\n",
      "support    10072.000000  130.0  0.987257  10202.000000  10202.000000\n",
      "_______________________________________________\n",
      "Confusion Matrix: \n",
      " [[10072     0]\n",
      " [  130     0]]\n",
      "\n"
     ]
    }
   ],
   "source": [
    "#Logistic Regression Model\n",
    "from sklearn.linear_model import LogisticRegression\n",
    "\n",
    "lr_clf = LogisticRegression(solver='liblinear')\n",
    "lr_clf.fit(x_train, y_train)\n",
    "\n",
    "print_score(lr_clf, x_train, y_train, x_test, y_test, train=True)\n",
    "print_score(lr_clf, x_train, y_train, x_test, y_test, train=False)"
   ]
  },
  {
   "cell_type": "code",
   "execution_count": 182,
   "id": "58bc7296",
   "metadata": {},
   "outputs": [
    {
     "name": "stdout",
     "output_type": "stream",
     "text": [
      "Train Result:\n",
      "================================================\n",
      "Accuracy Score: 98.89%\n",
      "_______________________________________________\n",
      "CLASSIFICATION REPORT:\n",
      "                      0           1  accuracy     macro avg  weighted avg\n",
      "precision      0.988920    1.000000  0.988923      0.994460      0.989045\n",
      "recall         1.000000    0.021645  0.988923      0.510823      0.988923\n",
      "f1-score       0.994429    0.042373  0.988923      0.518401      0.983650\n",
      "support    40342.000000  462.000000  0.988923  40804.000000  40804.000000\n",
      "_______________________________________________\n",
      "Confusion Matrix: \n",
      " [[40342     0]\n",
      " [  452    10]]\n",
      "\n",
      "Test Result:\n",
      "================================================\n",
      "Accuracy Score: 98.73%\n",
      "_______________________________________________\n",
      "CLASSIFICATION REPORT:\n",
      "                      0      1  accuracy     macro avg  weighted avg\n",
      "precision      0.987257    0.0  0.987257      0.493629      0.974677\n",
      "recall         1.000000    0.0  0.987257      0.500000      0.987257\n",
      "f1-score       0.993588    0.0  0.987257      0.496794      0.980927\n",
      "support    10072.000000  130.0  0.987257  10202.000000  10202.000000\n",
      "_______________________________________________\n",
      "Confusion Matrix: \n",
      " [[10072     0]\n",
      " [  130     0]]\n",
      "\n"
     ]
    }
   ],
   "source": [
    "#Support Vector Machine Model\n",
    "from sklearn.svm import SVC\n",
    "\n",
    "\n",
    "svm_clf = SVC(kernel='rbf', gamma=0.1, C=1.0)\n",
    "svm_clf.fit(x_train, y_train)\n",
    "\n",
    "print_score(svm_clf, x_train, y_train, x_test, y_test, train=True)\n",
    "print_score(svm_clf, x_train, y_train, x_test, y_test, train=False)"
   ]
  },
  {
   "cell_type": "code",
   "execution_count": 183,
   "id": "7348e5d8",
   "metadata": {},
   "outputs": [
    {
     "name": "stdout",
     "output_type": "stream",
     "text": [
      "Train Result:\n",
      "================================================\n",
      "Accuracy Score: 99.48%\n",
      "_______________________________________________\n",
      "CLASSIFICATION REPORT:\n",
      "                      0           1  accuracy     macro avg  weighted avg\n",
      "precision      0.994821    0.988235   0.99478      0.991528      0.994747\n",
      "recall         0.999926    0.545455   0.99478      0.772690      0.994780\n",
      "f1-score       0.997367    0.702929   0.99478      0.850148      0.994033\n",
      "support    40342.000000  462.000000   0.99478  40804.000000  40804.000000\n",
      "_______________________________________________\n",
      "Confusion Matrix: \n",
      " [[40339     3]\n",
      " [  210   252]]\n",
      "\n",
      "Test Result:\n",
      "================================================\n",
      "Accuracy Score: 98.01%\n",
      "_______________________________________________\n",
      "CLASSIFICATION REPORT:\n",
      "                      0           1  accuracy     macro avg  weighted avg\n",
      "precision      0.987454    0.037975  0.980102      0.512714      0.975355\n",
      "recall         0.992454    0.023077  0.980102      0.507766      0.980102\n",
      "f1-score       0.989948    0.028708  0.980102      0.509328      0.977699\n",
      "support    10072.000000  130.000000  0.980102  10202.000000  10202.000000\n",
      "_______________________________________________\n",
      "Confusion Matrix: \n",
      " [[9996   76]\n",
      " [ 127    3]]\n",
      "\n"
     ]
    }
   ],
   "source": [
    "#Decision Tree\n",
    "decision_tree = DecisionTreeClassifier()\n",
    "decision_tree.fit(x_train, y_train)\n",
    "\n",
    "print_score(decision_tree, x_train, y_train, x_test, y_test, train=True)\n",
    "print_score(decision_tree, x_train, y_train, x_test, y_test, train=False)"
   ]
  },
  {
   "cell_type": "code",
   "execution_count": 184,
   "id": "b896b602",
   "metadata": {},
   "outputs": [
    {
     "name": "stdout",
     "output_type": "stream",
     "text": [
      "Train Result:\n",
      "================================================\n",
      "Accuracy Score: 98.87%\n",
      "_______________________________________________\n",
      "CLASSIFICATION REPORT:\n",
      "                      0           1  accuracy     macro avg  weighted avg\n",
      "precision      0.988822    0.600000  0.988727      0.794411      0.984419\n",
      "recall         0.999901    0.012987  0.988727      0.506444      0.988727\n",
      "f1-score       0.994331    0.025424  0.988727      0.509877      0.983360\n",
      "support    40342.000000  462.000000  0.988727  40804.000000  40804.000000\n",
      "_______________________________________________\n",
      "Confusion Matrix: \n",
      " [[40338     4]\n",
      " [  456     6]]\n",
      "\n",
      "Test Result:\n",
      "================================================\n",
      "Accuracy Score: 98.72%\n",
      "_______________________________________________\n",
      "CLASSIFICATION REPORT:\n",
      "                      0      1  accuracy     macro avg  weighted avg\n",
      "precision      0.987256    0.0  0.987159      0.493628      0.974676\n",
      "recall         0.999901    0.0  0.987159      0.499950      0.987159\n",
      "f1-score       0.993538    0.0  0.987159      0.496769      0.980878\n",
      "support    10072.000000  130.0  0.987159  10202.000000  10202.000000\n",
      "_______________________________________________\n",
      "Confusion Matrix: \n",
      " [[10071     1]\n",
      " [  130     0]]\n",
      "\n"
     ]
    }
   ],
   "source": [
    "#KNN Model\n",
    "from sklearn.neighbors import KNeighborsClassifier\n",
    "\n",
    "knn_clf = KNeighborsClassifier()\n",
    "knn_clf.fit(x_train, y_train)\n",
    "\n",
    "print_score(knn_clf, x_train, y_train, x_test, y_test, train=True)\n",
    "print_score(knn_clf, x_train, y_train, x_test, y_test, train=False)"
   ]
  }
 ],
 "metadata": {
  "kernelspec": {
   "display_name": "Python 3 (ipykernel)",
   "language": "python",
   "name": "python3"
  },
  "language_info": {
   "codemirror_mode": {
    "name": "ipython",
    "version": 3
   },
   "file_extension": ".py",
   "mimetype": "text/x-python",
   "name": "python",
   "nbconvert_exporter": "python",
   "pygments_lexer": "ipython3",
   "version": "3.9.4"
  }
 },
 "nbformat": 4,
 "nbformat_minor": 5
}
